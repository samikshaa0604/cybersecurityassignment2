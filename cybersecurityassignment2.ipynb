{
  "nbformat": 4,
  "nbformat_minor": 0,
  "metadata": {
    "colab": {
      "provenance": [],
      "authorship_tag": "ABX9TyMY9etIICNlmEtUA1WNPRSW",
      "include_colab_link": true
    },
    "kernelspec": {
      "name": "python3",
      "display_name": "Python 3"
    },
    "language_info": {
      "name": "python"
    }
  },
  "cells": [
    {
      "cell_type": "markdown",
      "metadata": {
        "id": "view-in-github",
        "colab_type": "text"
      },
      "source": [
        "<a href=\"https://colab.research.google.com/github/samikshaa0604/cybersecurityassignment2/blob/main/cybersecurityassignment2.ipynb\" target=\"_parent\"><img src=\"https://colab.research.google.com/assets/colab-badge.svg\" alt=\"Open In Colab\"/></a>"
      ]
    },
    {
      "cell_type": "markdown",
      "source": [
        "\n",
        "# 🛡️ Blockchain Security Improvements (Python Colab Notebook)\n",
        "\n",
        "This notebook demonstrates **research gaps** identified in blockchain security and provides **Python-based executable improvements** for:\n",
        "1. Wallet Security (Multisig)\n",
        "2. Smart Contract Safety (Static Analysis)\n",
        "3. Consensus Performance (PoW vs PoS)\n",
        "4. Data Privacy in IoT/Cloud (Zero-Knowledge Proofs)\n",
        "\n",
        "---\n",
        "\n"
      ],
      "metadata": {
        "id": "NSYmRked1h4z"
      }
    },
    {
      "cell_type": "markdown",
      "source": [
        "\n",
        "##  GAP 1: Wallet Security\n",
        "**Problem:** Single private key theft = permanent asset loss.  \n",
        "**Improvement:** Multi-Signature Wallet (Multisig).\n"
      ],
      "metadata": {
        "id": "BpBWbkPa4yxp"
      }
    },
    {
      "cell_type": "code",
      "execution_count": null,
      "metadata": {
        "colab": {
          "base_uri": "https://localhost:8080/"
        },
        "id": "FRAhIFe3wZ63",
        "outputId": "b8bd6efd-3076-4567-bfbc-4cdb3a5ce785"
      },
      "outputs": [
        {
          "output_type": "stream",
          "name": "stdout",
          "text": [
            "Deposited 100. Balance: 100\n",
            "Transaction submitted: {'to': 'Mallory', 'amount': 50}, ID: 71d01972cc\n",
            "Alice confirmed transaction 71d01972cc\n",
            "Bob confirmed transaction 71d01972cc\n",
            "✅ Executed: Sent 50 to Mallory. New Balance: 50\n"
          ]
        }
      ],
      "source": [
        "\n",
        "from hashlib import sha256\n",
        "\n",
        "class MultiSigWallet:\n",
        "    def __init__(self, owners, required):\n",
        "        self.owners = owners\n",
        "        self.required = required\n",
        "        self.balance = 0\n",
        "        self.transactions = []\n",
        "        self.confirmations = {}\n",
        "\n",
        "    def deposit(self, amount):\n",
        "        self.balance += amount\n",
        "        print(f\"Deposited {amount}. Balance: {self.balance}\")\n",
        "\n",
        "    def submit_transaction(self, to, amount):\n",
        "        if amount > self.balance:\n",
        "            print(\"Not enough funds!\")\n",
        "            return None\n",
        "        tx = {\"to\": to, \"amount\": amount}\n",
        "        tx_id = sha256(str(tx).encode()).hexdigest()\n",
        "        self.transactions.append(tx)\n",
        "        self.confirmations[tx_id] = []\n",
        "        print(f\"Transaction submitted: {tx}, ID: {tx_id[:10]}\")\n",
        "        return tx_id\n",
        "\n",
        "    def confirm_transaction(self, owner, tx_id):\n",
        "        if owner not in self.owners:\n",
        "            print(\"Not an owner!\")\n",
        "            return\n",
        "        if owner in self.confirmations[tx_id]:\n",
        "            print(f\"{owner} already confirmed!\")\n",
        "            return\n",
        "        self.confirmations[tx_id].append(owner)\n",
        "        print(f\"{owner} confirmed transaction {tx_id[:10]}\")\n",
        "\n",
        "    def execute_transaction(self, tx_id):\n",
        "        if len(self.confirmations[tx_id]) >= self.required:\n",
        "            tx = [t for t in self.transactions if sha256(str(t).encode()).hexdigest() == tx_id][0]\n",
        "            self.balance -= tx[\"amount\"]\n",
        "            print(f\"✅ Executed: Sent {tx['amount']} to {tx['to']}. New Balance: {self.balance}\")\n",
        "        else:\n",
        "            print(\"Not enough confirmations yet!\")\n",
        "\n",
        "# Demo\n",
        "wallet = MultiSigWallet([\"Alice\", \"Bob\", \"Charlie\"], required=2)\n",
        "wallet.deposit(100)\n",
        "tx_id = wallet.submit_transaction(\"Mallory\", 50)\n",
        "wallet.confirm_transaction(\"Alice\", tx_id)\n",
        "wallet.confirm_transaction(\"Bob\", tx_id)\n",
        "wallet.execute_transaction(tx_id)\n"
      ]
    },
    {
      "cell_type": "markdown",
      "source": [
        "## 🔹 GAP 2: Smart Contract Safety  \n",
        "**Problem:** Poorly written contracts can cause irreversible asset loss.  \n",
        "**Improvement:** Basic static vulnerability scanner.  "
      ],
      "metadata": {
        "id": "ePpQGkFn5Gb-"
      }
    },
    {
      "cell_type": "code",
      "source": [
        "\n",
        "import re\n",
        "\n",
        "def audit_smart_contract(code):\n",
        "    issues = []\n",
        "    if \"tx.origin\" in code:\n",
        "        issues.append(\"⚠️ Insecure use of tx.origin (phishing risk).\")\n",
        "    if \"call.value\" in code:\n",
        "        issues.append(\"⚠️ Use of call.value without checks (reentrancy risk).\")\n",
        "    if \"delegatecall\" in code:\n",
        "        issues.append(\"⚠️ delegatecall detected (code execution risk).\")\n",
        "    if not issues:\n",
        "        return \"✅ No major vulnerabilities detected.\"\n",
        "    return issues\n",
        "\n",
        "# Example Solidity code (with vulnerabilities)\n",
        "solidity_code = '''\n",
        "contract Test {\n",
        "    function pay(address to) public {\n",
        "        to.call.value(1 ether)(\"\");\n",
        "    }\n",
        "}\n",
        "'''\n",
        "print(audit_smart_contract(solidity_code))\n"
      ],
      "metadata": {
        "colab": {
          "base_uri": "https://localhost:8080/"
        },
        "id": "Xbjbo3630ZWl",
        "outputId": "4a2703ad-dadc-458a-ef79-423c31853450"
      },
      "execution_count": null,
      "outputs": [
        {
          "output_type": "stream",
          "name": "stdout",
          "text": [
            "['⚠️ Use of call.value without checks (reentrancy risk).']\n"
          ]
        }
      ]
    },
    {
      "cell_type": "markdown",
      "source": [
        "## 🔹 GAP 3: Consensus Performance  \n",
        "**Problem:** Proof-of-Work is slow and energy-hungry.  \n",
        "**Improvement:** Compare PoW vs PoS simulation.  \n"
      ],
      "metadata": {
        "id": "QGtVaLwW5Lul"
      }
    },
    {
      "cell_type": "code",
      "source": [
        "\n",
        "import random, time\n",
        "from hashlib import sha256\n",
        "\n",
        "def proof_of_work(difficulty=4):\n",
        "    prefix = \"0\"*difficulty\n",
        "    nonce = 0\n",
        "    while True:\n",
        "        hash_val = sha256(f\"{nonce}\".encode()).hexdigest()\n",
        "        if hash_val.startswith(prefix):\n",
        "            return nonce, hash_val\n",
        "        nonce += 1\n",
        "\n",
        "def proof_of_stake(validators):\n",
        "    return random.choice(validators)\n",
        "\n",
        "# Simulate PoW\n",
        "start = time.time()\n",
        "nonce, hash_val = proof_of_work(difficulty=5)\n",
        "end = time.time()\n",
        "print(f\"⛏️ PoW found nonce {nonce} in {end-start:.2f}s -> {hash_val[:10]}\")\n",
        "\n",
        "# Simulate PoS\n",
        "validators = [\"Alice\", \"Bob\", \"Charlie\"]\n",
        "chosen = proof_of_stake(validators)\n",
        "print(f\"🏆 PoS selected validator: {chosen}\")\n"
      ],
      "metadata": {
        "colab": {
          "base_uri": "https://localhost:8080/"
        },
        "id": "6B0MHLTu0vXU",
        "outputId": "2414670d-7f1b-4c67-92f0-e4ddc092f7b8"
      },
      "execution_count": null,
      "outputs": [
        {
          "output_type": "stream",
          "name": "stdout",
          "text": [
            "⛏️ PoW found nonce 596138 in 0.67s -> 0000069145\n",
            "🏆 PoS selected validator: Charlie\n"
          ]
        }
      ]
    },
    {
      "cell_type": "markdown",
      "source": [
        "## 🔹 GAP 4: Data Privacy in IoT/Cloud  \n",
        "**Problem:** Sharing sensitive data risks privacy leaks.  \n",
        "**Improvement:** Zero-Knowledge Proof demo."
      ],
      "metadata": {
        "id": "nqWFVlG95QkD"
      }
    },
    {
      "cell_type": "code",
      "source": [
        "\n",
        "def zero_knowledge_proof(secret, claim):\n",
        "    hashed = sha256(secret.encode()).hexdigest()\n",
        "    return hashed == sha256(claim.encode()).hexdigest()\n",
        "\n",
        "# Example\n",
        "real_password = \"SuperSecret123\"\n",
        "claim = \"SuperSecret123\"   # Correct proof\n",
        "print(\"ZKP Verified:\", zero_knowledge_proof(real_password, claim))\n",
        "\n",
        "claim = \"WrongPassword\"    # Wrong proof\n",
        "print(\"ZKP Verified:\", zero_knowledge_proof(real_password, claim))\n"
      ],
      "metadata": {
        "colab": {
          "base_uri": "https://localhost:8080/"
        },
        "id": "er_6T9Ef1CLz",
        "outputId": "ddd3a8ef-ff4b-40c6-ccc1-2445ac849c0b"
      },
      "execution_count": null,
      "outputs": [
        {
          "output_type": "stream",
          "name": "stdout",
          "text": [
            "ZKP Verified: True\n",
            "ZKP Verified: False\n"
          ]
        }
      ]
    },
    {
      "cell_type": "code",
      "source": [],
      "metadata": {
        "id": "Ht8_aVtq1J7-"
      },
      "execution_count": null,
      "outputs": []
    }
  ]
}